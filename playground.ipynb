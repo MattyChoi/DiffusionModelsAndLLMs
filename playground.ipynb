{
 "cells": [
  {
   "cell_type": "code",
   "execution_count": null,
   "metadata": {},
   "outputs": [],
   "source": [
    "import os\n",
    "import sys\n",
    "# Import modules from base directory\n",
    "sys.path.insert(0, os.getcwd())\n",
    "\n",
    "import json\n",
    "import numpy as np\n",
    "import matplotlib.image as mpimg\n",
    "import matplotlib.pyplot as plt\n",
    "import torch\n",
    "import torchvision\n",
    "import torchvision.transforms as trfms\n",
    "from torch.utils.data import Dataset"
   ]
  },
  {
   "cell_type": "code",
   "execution_count": null,
   "metadata": {},
   "outputs": [],
   "source": [
    "def show_images(datset, num_samples=20, cols=4):\n",
    "    \"\"\" Plots some samples from the dataset \"\"\"\n",
    "    plt.figure(figsize=(15,15)) \n",
    "    for i, img in enumerate(datset):\n",
    "        if i == num_samples:\n",
    "            break\n",
    "        plt.subplot(num_samples/cols + 1, cols, i + 1)\n",
    "        plt.imshow(img[0])\n",
    "\n",
    "data = torchvision.datasets.StanfordCars(root=\"./data\")\n",
    "\n",
    "index = 0\n",
    "image = trfms.ToTensor()(data[index][0])\n",
    "print(image)\n",
    "plt.imshow(image.permute(1, 2, 0))\n",
    "print(len(data))"
   ]
  },
  {
   "cell_type": "code",
   "execution_count": null,
   "metadata": {},
   "outputs": [],
   "source": [
    "\n",
    "class Cars(Dataset):\n",
    "    \"\"\"\n",
    "    Dataset of car images\n",
    "    \"\"\"\n",
    "    def __init__(self, data_dir=\"\", transform=None):\n",
    "        super(Cars, self).__init__()\n",
    "\n",
    "        self.transform = transform\n",
    "        self.data_dir = data_dir\n",
    "        self.data = torchvision.datasets.StanfordCars(root=data_dir, split=\"test\", download=True)\n",
    "\n",
    "\n",
    "    def __getitem__(self, index):\n",
    "        features = self.feature_list[index]\n",
    "        input_shape = (256,256)\n",
    "        hmap_shape = (64,64)\n",
    "\n",
    "        img_folder_dir = os.path.join(self.data_dir, 'train')\n",
    "        img_dir = os.path.join(img_folder_dir, features['file'])\n",
    "        img = mpimg.imread(img_dir)\n",
    "\n",
    "        # generate crop image\n",
    "        #print(img)\n",
    "        img_crop = img\n",
    "        \n",
    "        train_img = torch.transpose(img_crop, (2,0,1))/255.0\n",
    "\n",
    "        return torch.Tensor(train_img)\n",
    "\n",
    "\n",
    "    def __len__(self):\n",
    "        return len(self.feature_list)\n",
    "\n",
    "\n",
    "    def collate_fn(self, batch):\n",
    "        imgs, heatmaps = list(zip(*batch))\n",
    "\n",
    "        imgs = torch.stack(imgs, dim=0)\n",
    "        heatmaps = torch.stack(heatmaps, dim=0)\n",
    "\n",
    "        return imgs, heatmaps\n"
   ]
  },
  {
   "cell_type": "code",
   "execution_count": null,
   "metadata": {},
   "outputs": [],
   "source": [
    "from models.variance_scheduler import linear_beta_schedule, cosine_beta_schedule\n",
    "\n",
    "num = 1000\n",
    "timesteps = torch.arange(num)\n",
    "\n",
    "# find betas\n",
    "vars = linear_beta_schedule(num)\n",
    "cos_vars = cosine_beta_schedule(num)\n",
    "\n",
    "fig, axs = plt.subplots(1, 2, figsize=(16, 8))\n",
    "plt.xlabel(r'timesteps') \n",
    "plt.ylabel(r'variance')\n",
    "axs[0].plot(timesteps, vars, 'b.')\n",
    "axs[1].plot(timesteps, cos_vars, 'b.')\n",
    "# plt.title(r'Scatter Plot of $s_{ij}^*$ vs $s_{ij,T}$')\n",
    "plt.show() "
   ]
  },
  {
   "cell_type": "code",
   "execution_count": null,
   "metadata": {},
   "outputs": [],
   "source": [
    "# get cumprods (alpha overline)\n",
    "cumprods = torch.cumprod(1 - vars, dim=0)\n",
    "cos_cumprods = torch.cumprod(1 - cos_vars, dim=0)\n",
    "\n",
    "plt.figure(figsize=(10,5)) \n",
    "plt.plot(timesteps, cumprods, label = \"linear\")\n",
    "plt.plot(timesteps, cos_cumprods,label = \"cosine\")\n",
    "plt.legend()\n",
    "plt.show()"
   ]
  },
  {
   "cell_type": "code",
   "execution_count": null,
   "metadata": {},
   "outputs": [],
   "source": [
    "import hydra\n",
    "from hydra import compose, initialize\n",
    "from omegaconf import OmegaConf\n",
    "\n",
    "from tools.predictor import pred\n",
    "\n",
    "initialize(version_base=None, config_path=\"./config\", job_name=\"test_app\")\n",
    "cfg = compose(config_name=\"test_defaults\")"
   ]
  },
  {
   "cell_type": "code",
   "execution_count": null,
   "metadata": {},
   "outputs": [],
   "source": [
    "# build model\n",
    "pretrained = cfg.pretrained\n",
    "task = hydra.utils.instantiate(cfg.tasks, cfg).load_from_checkpoint(\n",
    "    pretrained, dataset=cfg.dataset, map_location=None\n",
    ")"
   ]
  },
  {
   "cell_type": "code",
   "execution_count": null,
   "metadata": {},
   "outputs": [],
   "source": [
    "from utils.visualize import plot_sample_image\n",
    "\n",
    "imgs = task.model.sample()\n",
    "plot_sample_image(imgs[-1])"
   ]
  },
  {
   "cell_type": "code",
   "execution_count": null,
   "metadata": {},
   "outputs": [],
   "source": [
    "from utils.visualize import plot_sample_gif\n",
    "\n",
    "plot_sample_gif(imgs)"
   ]
  },
  {
   "cell_type": "code",
   "execution_count": null,
   "metadata": {},
   "outputs": [],
   "source": []
  }
 ],
 "metadata": {
  "kernelspec": {
   "display_name": "Python 3",
   "language": "python",
   "name": "python3"
  },
  "language_info": {
   "codemirror_mode": {
    "name": "ipython",
    "version": 3
   },
   "file_extension": ".py",
   "mimetype": "text/x-python",
   "name": "python",
   "nbconvert_exporter": "python",
   "pygments_lexer": "ipython3",
   "version": "3.9.7"
  },
  "orig_nbformat": 4
 },
 "nbformat": 4,
 "nbformat_minor": 2
}
